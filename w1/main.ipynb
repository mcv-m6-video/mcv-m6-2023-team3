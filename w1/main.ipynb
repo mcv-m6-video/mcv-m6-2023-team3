{
 "cells": [
  {
   "cell_type": "code",
   "execution_count": 3,
   "metadata": {},
   "outputs": [
    {
     "name": "stdout",
     "output_type": "stream",
     "text": [
      "../AICity_data/train/S03/c010\n",
      "Reading 376 x 1241 flow file in .png format\n",
      "Reading 376 x 1241 flow file in .png format\n",
      "The msen for the img: 000045_10.png is: 12.927942436259944\n",
      "The pepn for the img: 000045_10.png is: [2.14308982e-06 2.14308982e-06 2.14308982e-06 ... 2.14308982e-06\n",
      " 2.14308982e-06 2.14308982e-06]\n",
      "Reading 370 x 1226 flow file in .png format\n",
      "Reading 370 x 1226 flow file in .png format\n",
      "The msen for the img: 000157_10.png is: 3.283687879651128\n",
      "The pepn for the img: 000157_10.png is: [2.20448834e-06 2.20448834e-06 2.20448834e-06 ... 4.40897668e-06\n",
      " 4.40897668e-06 4.40897668e-06]\n"
     ]
    }
   ],
   "source": [
    "import sys\n",
    "import os\n",
    "sys.path.append(\"../\")\n",
    "\n",
    "#https://github.com/liruoteng/OpticalFlowToolkit.git\n",
    "from OpticalFlowToolkit.lib import flowlib\n",
    "\n",
    "from plot_data import *\n",
    "from load_input import *\n",
    "from compute_metric import *\n",
    "\n",
    "path = './AICity_data/train/S03/c010'\n",
    "PATH_IMG_PRED = \"../data_w1/pred/\"\n",
    "PATH_IMG_GT = \"../data_w1/flow_noc\"\n",
    "PATH_IMG = \"../data_w1/img\"\n",
    "IMG_LIST = [\"000045_10.png\", \"000157_10.png\"]\n",
    "ERROR_THRESH = 3\n",
    "\n",
    "path = '../AICity_data/train/S03/c010'\n",
    "\n",
    "\n",
    "def main(path):\n",
    "    print(path)\n",
    "\n",
    "    task = 3\n",
    "\n",
    "    if task == 1.1:\n",
    " \n",
    "        path = os.path.join(path, \"gt/gt.txt\")\n",
    "        gt_bb = load_bb(path)\n",
    "        study_noise = study_effect_noise(gt_bb)\n",
    "        plot_ap_miou(study_noise['pos'], title=\"Displacement\", xlabel=\"Max distance\")\n",
    "        plot_ap_miou(study_noise['size'], title=\"Resize\", xlabel=\"Max distance\")\n",
    "        plot_ap_miou(study_noise['gen'], title=\"Generate\", xlabel=\"Probability\")\n",
    "        plot_ap_miou(study_noise['del'], title=\"Delete\", xlabel=\"Probability\")\n",
    "\n",
    "    elif task == 3:\n",
    "        for img in IMG_LIST:\n",
    "            img_pred_path = os.path.join(PATH_IMG_PRED, \"LKflow_\" + img)\n",
    "            img_gt_path = os.path.join(PATH_IMG_GT, img)\n",
    "            # Function from ://github.com/liruoteng/OpticalFlowToolkit.git\n",
    "            pred_flow = flowlib.read_flow(img_pred_path)\n",
    "            gt_flow = flowlib.read_flow(img_gt_path)\n",
    "            msen = calculate_msen(gt_flow, pred_flow)\n",
    "            print(\"The msen for the img: \" + str(img) + \" is: \" + str(msen))\n",
    "            pepn = calculate_pepn( gt_flow, pred_flow, ERROR_THRESH)\n",
    "            print(\"The pepn for the img: \" + str(img) + \" is: \" + str(pepn))\n",
    "\n",
    "\n",
    "main(path)"
   ]
  },
  {
   "cell_type": "code",
   "execution_count": null,
   "metadata": {},
   "outputs": [],
   "source": []
  },
  {
   "cell_type": "code",
   "execution_count": null,
   "metadata": {},
   "outputs": [],
   "source": []
  }
 ],
 "metadata": {
  "kernelspec": {
   "display_name": "m6",
   "language": "python",
   "name": "python3"
  },
  "language_info": {
   "codemirror_mode": {
    "name": "ipython",
    "version": 3
   },
   "file_extension": ".py",
   "mimetype": "text/x-python",
   "name": "python",
   "nbconvert_exporter": "python",
   "pygments_lexer": "ipython3",
   "version": "3.8.2"
  },
  "orig_nbformat": 4
 },
 "nbformat": 4,
 "nbformat_minor": 2
}
